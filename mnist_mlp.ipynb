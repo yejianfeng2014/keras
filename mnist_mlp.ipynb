{
  "nbformat": 4,
  "nbformat_minor": 0,
  "metadata": {
    "colab": {
      "name": "mnist_mlp.ipynb",
      "version": "0.3.2",
      "provenance": [],
      "include_colab_link": true
    },
    "kernelspec": {
      "name": "python3",
      "display_name": "Python 3"
    }
  },
  "cells": [
    {
      "cell_type": "markdown",
      "metadata": {
        "id": "view-in-github",
        "colab_type": "text"
      },
      "source": [
        "<a href=\"https://colab.research.google.com/github/yejianfeng2014/keras/blob/master/mnist_mlp.ipynb\" target=\"_parent\"><img src=\"https://colab.research.google.com/assets/colab-badge.svg\" alt=\"Open In Colab\"/></a>"
      ]
    },
    {
      "metadata": {
        "id": "WJSUzL3wWVeY",
        "colab_type": "text"
      },
      "cell_type": "markdown",
      "source": [
        "###第一个示例"
      ]
    },
    {
      "metadata": {
        "id": "7-NR-CeUV7SM",
        "colab_type": "code",
        "colab": {
          "base_uri": "https://localhost:8080/",
          "height": 1187
        },
        "outputId": "f018e3a5-3988-43ec-c9e0-4764fad63540"
      },
      "cell_type": "code",
      "source": [
        "'''Trains a simple deep NN on the MNIST dataset.\n",
        "Gets to 98.40% test accuracy after 20 epochs\n",
        "(there is *a lot* of margin for parameter tuning).\n",
        "2 seconds per epoch on a K520 GPU.\n",
        "'''\n",
        "\n",
        "from __future__ import print_function\n",
        "\n",
        "import keras\n",
        "from keras.datasets import mnist\n",
        "from keras.models import Sequential\n",
        "from keras.layers import Dense, Dropout\n",
        "from keras.optimizers import RMSprop\n",
        "\n",
        "batch_size = 128\n",
        "num_classes = 10\n",
        "epochs = 20\n",
        "\n",
        "# the data, split between train and test sets\n",
        "(x_train, y_train), (x_test, y_test) = mnist.load_data()\n",
        "\n",
        "x_train = x_train.reshape(60000, 784)\n",
        "x_test = x_test.reshape(10000, 784)\n",
        "x_train = x_train.astype('float32')\n",
        "x_test = x_test.astype('float32')\n",
        "x_train /= 255\n",
        "x_test /= 255\n",
        "print(x_train.shape[0], 'train samples')\n",
        "print(x_test.shape[0], 'test samples')\n",
        "\n",
        "# convert class vectors to binary class matrices\n",
        "y_train = keras.utils.to_categorical(y_train, num_classes)\n",
        "y_test = keras.utils.to_categorical(y_test, num_classes)\n",
        "\n",
        "model = Sequential()\n",
        "model.add(Dense(512, activation='relu', input_shape=(784,)))\n",
        "model.add(Dropout(0.2))\n",
        "model.add(Dense(512, activation='relu'))\n",
        "model.add(Dropout(0.2))\n",
        "model.add(Dense(num_classes, activation='softmax'))\n",
        "\n",
        "model.summary()\n",
        "\n",
        "model.compile(loss='categorical_crossentropy',\n",
        "              optimizer=RMSprop(),\n",
        "              metrics=['accuracy'])\n",
        "\n",
        "history = model.fit(x_train, y_train,\n",
        "                    batch_size=batch_size,\n",
        "                    epochs=epochs,\n",
        "                    verbose=1,\n",
        "                    validation_data=(x_test, y_test))\n",
        "score = model.evaluate(x_test, y_test, verbose=0)\n",
        "print('Test loss:', score[0])\n",
        "print('Test accuracy:', score[1])"
      ],
      "execution_count": 1,
      "outputs": [
        {
          "output_type": "stream",
          "text": [
            "Using TensorFlow backend.\n"
          ],
          "name": "stderr"
        },
        {
          "output_type": "stream",
          "text": [
            "Downloading data from https://s3.amazonaws.com/img-datasets/mnist.npz\n",
            "11493376/11490434 [==============================] - 1s 0us/step\n",
            "60000 train samples\n",
            "10000 test samples\n",
            "_________________________________________________________________\n",
            "Layer (type)                 Output Shape              Param #   \n",
            "=================================================================\n",
            "dense_1 (Dense)              (None, 512)               401920    \n",
            "_________________________________________________________________\n",
            "dropout_1 (Dropout)          (None, 512)               0         \n",
            "_________________________________________________________________\n",
            "dense_2 (Dense)              (None, 512)               262656    \n",
            "_________________________________________________________________\n",
            "dropout_2 (Dropout)          (None, 512)               0         \n",
            "_________________________________________________________________\n",
            "dense_3 (Dense)              (None, 10)                5130      \n",
            "=================================================================\n",
            "Total params: 669,706\n",
            "Trainable params: 669,706\n",
            "Non-trainable params: 0\n",
            "_________________________________________________________________\n",
            "Train on 60000 samples, validate on 10000 samples\n",
            "Epoch 1/20\n",
            "60000/60000 [==============================] - 10s 162us/step - loss: 0.2453 - acc: 0.9239 - val_loss: 0.1055 - val_acc: 0.9667\n",
            "Epoch 2/20\n",
            "60000/60000 [==============================] - 9s 150us/step - loss: 0.1031 - acc: 0.9685 - val_loss: 0.0854 - val_acc: 0.9765\n",
            "Epoch 3/20\n",
            "60000/60000 [==============================] - 9s 149us/step - loss: 0.0734 - acc: 0.9780 - val_loss: 0.0998 - val_acc: 0.9719\n",
            "Epoch 4/20\n",
            "60000/60000 [==============================] - 9s 142us/step - loss: 0.0604 - acc: 0.9821 - val_loss: 0.0754 - val_acc: 0.9796\n",
            "Epoch 5/20\n",
            "60000/60000 [==============================] - 9s 150us/step - loss: 0.0495 - acc: 0.9849 - val_loss: 0.0772 - val_acc: 0.9820\n",
            "Epoch 6/20\n",
            "60000/60000 [==============================] - 9s 147us/step - loss: 0.0452 - acc: 0.9866 - val_loss: 0.0678 - val_acc: 0.9838\n",
            "Epoch 7/20\n",
            "60000/60000 [==============================] - 9s 146us/step - loss: 0.0381 - acc: 0.9887 - val_loss: 0.0817 - val_acc: 0.9823\n",
            "Epoch 8/20\n",
            "60000/60000 [==============================] - 9s 144us/step - loss: 0.0315 - acc: 0.9901 - val_loss: 0.0841 - val_acc: 0.9831\n",
            "Epoch 9/20\n",
            "60000/60000 [==============================] - 8s 140us/step - loss: 0.0327 - acc: 0.9906 - val_loss: 0.0848 - val_acc: 0.9837\n",
            "Epoch 10/20\n",
            "60000/60000 [==============================] - 8s 139us/step - loss: 0.0279 - acc: 0.9919 - val_loss: 0.0965 - val_acc: 0.9813\n",
            "Epoch 11/20\n",
            "60000/60000 [==============================] - 8s 139us/step - loss: 0.0268 - acc: 0.9921 - val_loss: 0.0969 - val_acc: 0.9833\n",
            "Epoch 12/20\n",
            "60000/60000 [==============================] - 8s 137us/step - loss: 0.0247 - acc: 0.9929 - val_loss: 0.0990 - val_acc: 0.9838\n",
            "Epoch 13/20\n",
            "60000/60000 [==============================] - 8s 140us/step - loss: 0.0248 - acc: 0.9927 - val_loss: 0.0938 - val_acc: 0.9827\n",
            "Epoch 14/20\n",
            "60000/60000 [==============================] - 8s 141us/step - loss: 0.0228 - acc: 0.9937 - val_loss: 0.0923 - val_acc: 0.9845\n",
            "Epoch 15/20\n",
            "60000/60000 [==============================] - 8s 140us/step - loss: 0.0198 - acc: 0.9945 - val_loss: 0.0926 - val_acc: 0.9845\n",
            "Epoch 16/20\n",
            "60000/60000 [==============================] - 9s 143us/step - loss: 0.0204 - acc: 0.9947 - val_loss: 0.1150 - val_acc: 0.9826\n",
            "Epoch 17/20\n",
            "60000/60000 [==============================] - 8s 140us/step - loss: 0.0196 - acc: 0.9947 - val_loss: 0.1031 - val_acc: 0.9839\n",
            "Epoch 18/20\n",
            "60000/60000 [==============================] - 8s 135us/step - loss: 0.0179 - acc: 0.9952 - val_loss: 0.0909 - val_acc: 0.9849\n",
            "Epoch 19/20\n",
            "60000/60000 [==============================] - 8s 137us/step - loss: 0.0196 - acc: 0.9949 - val_loss: 0.1108 - val_acc: 0.9847\n",
            "Epoch 20/20\n",
            "60000/60000 [==============================] - 8s 136us/step - loss: 0.0180 - acc: 0.9957 - val_loss: 0.1018 - val_acc: 0.9841\n",
            "Test loss: 0.10181240736821869\n",
            "Test accuracy: 0.9841\n"
          ],
          "name": "stdout"
        }
      ]
    },
    {
      "metadata": {
        "id": "uIllHlkmV9bX",
        "colab_type": "code",
        "colab": {}
      },
      "cell_type": "code",
      "source": [
        ""
      ],
      "execution_count": 0,
      "outputs": []
    },
    {
      "metadata": {
        "id": "UPs2va01WeAl",
        "colab_type": "text"
      },
      "cell_type": "markdown",
      "source": [
        "###第二个示例\n"
      ]
    },
    {
      "metadata": {
        "id": "dJRxDE59Wgfs",
        "colab_type": "code",
        "colab": {
          "base_uri": "https://localhost:8080/",
          "height": 557
        },
        "outputId": "ab6c21ef-e403-46fd-b5de-8b20dbf5bb5f"
      },
      "cell_type": "code",
      "source": [
        "'''Trains a simple convnet on the MNIST dataset.\n",
        "Gets to 99.25% test accuracy after 12 epochs\n",
        "(there is still a lot of margin for parameter tuning).\n",
        "16 seconds per epoch on a GRID K520 GPU.\n",
        "'''\n",
        "\n",
        "from __future__ import print_function\n",
        "import keras\n",
        "from keras.datasets import mnist\n",
        "from keras.models import Sequential\n",
        "from keras.layers import Dense, Dropout, Flatten\n",
        "from keras.layers import Conv2D, MaxPooling2D\n",
        "from keras import backend as K\n",
        "\n",
        "batch_size = 128\n",
        "num_classes = 10\n",
        "epochs = 12\n",
        "\n",
        "# input image dimensions\n",
        "img_rows, img_cols = 28, 28\n",
        "\n",
        "# the data, split between train and test sets\n",
        "(x_train, y_train), (x_test, y_test) = mnist.load_data()\n",
        "\n",
        "if K.image_data_format() == 'channels_first':\n",
        "    x_train = x_train.reshape(x_train.shape[0], 1, img_rows, img_cols)\n",
        "    x_test = x_test.reshape(x_test.shape[0], 1, img_rows, img_cols)\n",
        "    input_shape = (1, img_rows, img_cols)\n",
        "else:\n",
        "    x_train = x_train.reshape(x_train.shape[0], img_rows, img_cols, 1)\n",
        "    x_test = x_test.reshape(x_test.shape[0], img_rows, img_cols, 1)\n",
        "    input_shape = (img_rows, img_cols, 1)\n",
        "\n",
        "x_train = x_train.astype('float32')\n",
        "x_test = x_test.astype('float32')\n",
        "x_train /= 255\n",
        "x_test /= 255\n",
        "print('x_train shape:', x_train.shape)\n",
        "print(x_train.shape[0], 'train samples')\n",
        "print(x_test.shape[0], 'test samples')\n",
        "\n",
        "# convert class vectors to binary class matrices\n",
        "y_train = keras.utils.to_categorical(y_train, num_classes)\n",
        "y_test = keras.utils.to_categorical(y_test, num_classes)\n",
        "\n",
        "model = Sequential()\n",
        "model.add(Conv2D(32, kernel_size=(3, 3),\n",
        "                 activation='relu',\n",
        "                 input_shape=input_shape))\n",
        "model.add(Conv2D(64, (3, 3), activation='relu'))\n",
        "model.add(MaxPooling2D(pool_size=(2, 2)))\n",
        "model.add(Dropout(0.25))\n",
        "model.add(Flatten())\n",
        "model.add(Dense(128, activation='relu'))\n",
        "model.add(Dropout(0.5))\n",
        "model.add(Dense(num_classes, activation='softmax'))\n",
        "\n",
        "model.compile(loss=keras.losses.categorical_crossentropy,\n",
        "              optimizer=keras.optimizers.Adadelta(),\n",
        "              metrics=['accuracy'])\n",
        "\n",
        "model.fit(x_train, y_train,\n",
        "          batch_size=batch_size,\n",
        "          epochs=epochs,\n",
        "          verbose=1,\n",
        "          validation_data=(x_test, y_test))\n",
        "score = model.evaluate(x_test, y_test, verbose=0)\n",
        "print('Test loss:', score[0])\n",
        "print('Test accuracy:', score[1])"
      ],
      "execution_count": 2,
      "outputs": [
        {
          "output_type": "stream",
          "text": [
            "x_train shape: (60000, 28, 28, 1)\n",
            "60000 train samples\n",
            "10000 test samples\n",
            "Train on 60000 samples, validate on 10000 samples\n",
            "Epoch 1/12\n",
            "60000/60000 [==============================] - 168s 3ms/step - loss: 0.2618 - acc: 0.9195 - val_loss: 0.0662 - val_acc: 0.9782\n",
            "Epoch 2/12\n",
            "60000/60000 [==============================] - 165s 3ms/step - loss: 0.0882 - acc: 0.9739 - val_loss: 0.0402 - val_acc: 0.9864\n",
            "Epoch 3/12\n",
            "60000/60000 [==============================] - 169s 3ms/step - loss: 0.0667 - acc: 0.9805 - val_loss: 0.0380 - val_acc: 0.9867\n",
            "Epoch 4/12\n",
            "60000/60000 [==============================] - 171s 3ms/step - loss: 0.0542 - acc: 0.9836 - val_loss: 0.0319 - val_acc: 0.9893\n",
            "Epoch 5/12\n",
            "60000/60000 [==============================] - 174s 3ms/step - loss: 0.0470 - acc: 0.9865 - val_loss: 0.0276 - val_acc: 0.9914\n",
            "Epoch 6/12\n",
            "60000/60000 [==============================] - 170s 3ms/step - loss: 0.0420 - acc: 0.9873 - val_loss: 0.0304 - val_acc: 0.9896\n",
            "Epoch 7/12\n",
            "60000/60000 [==============================] - 169s 3ms/step - loss: 0.0381 - acc: 0.9882 - val_loss: 0.0287 - val_acc: 0.9906\n",
            "Epoch 8/12\n",
            "60000/60000 [==============================] - 170s 3ms/step - loss: 0.0333 - acc: 0.9896 - val_loss: 0.0264 - val_acc: 0.9921\n",
            "Epoch 9/12\n",
            "60000/60000 [==============================] - 170s 3ms/step - loss: 0.0317 - acc: 0.9896 - val_loss: 0.0266 - val_acc: 0.9920\n",
            "Epoch 10/12\n",
            "60000/60000 [==============================] - 170s 3ms/step - loss: 0.0292 - acc: 0.9911 - val_loss: 0.0254 - val_acc: 0.9919\n",
            "Epoch 11/12\n",
            "60000/60000 [==============================] - 171s 3ms/step - loss: 0.0269 - acc: 0.9916 - val_loss: 0.0255 - val_acc: 0.9918\n",
            "Epoch 12/12\n",
            "60000/60000 [==============================] - 171s 3ms/step - loss: 0.0250 - acc: 0.9915 - val_loss: 0.0262 - val_acc: 0.9917\n",
            "Test loss: 0.026167907482835654\n",
            "Test accuracy: 0.9917\n"
          ],
          "name": "stdout"
        }
      ]
    },
    {
      "metadata": {
        "id": "4prkbtd9Wzh_",
        "colab_type": "code",
        "colab": {}
      },
      "cell_type": "code",
      "source": [
        ""
      ],
      "execution_count": 0,
      "outputs": []
    }
  ]
}