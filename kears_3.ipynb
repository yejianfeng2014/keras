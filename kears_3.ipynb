{
  "nbformat": 4,
  "nbformat_minor": 0,
  "metadata": {
    "colab": {
      "name": "kears_3.ipynb",
      "version": "0.3.2",
      "provenance": [],
      "private_outputs": true,
      "collapsed_sections": [],
      "include_colab_link": true
    },
    "kernelspec": {
      "name": "python3",
      "display_name": "Python 3"
    },
    "accelerator": "GPU"
  },
  "cells": [
    {
      "cell_type": "markdown",
      "metadata": {
        "id": "view-in-github",
        "colab_type": "text"
      },
      "source": [
        "<a href=\"https://colab.research.google.com/github/yejianfeng2014/keras/blob/master/kears_3.ipynb\" target=\"_parent\"><img src=\"https://colab.research.google.com/assets/colab-badge.svg\" alt=\"Open In Colab\"/></a>"
      ]
    },
    {
      "metadata": {
        "id": "IyhYBtNVmG9G",
        "colab_type": "code",
        "colab": {}
      },
      "cell_type": "code",
      "source": [
        "import tensorflow as tf\n",
        "print(tf.__version__)"
      ],
      "execution_count": 0,
      "outputs": []
    },
    {
      "metadata": {
        "id": "28hnXv8XmAkA",
        "colab_type": "text"
      },
      "cell_type": "markdown",
      "source": [
        "# Keras入门课3：使用CNN识别cifar10数据集"
      ]
    },
    {
      "metadata": {
        "id": "yRIOBMkzmAkB",
        "colab_type": "text"
      },
      "cell_type": "markdown",
      "source": [
        "cifar10是一个日常物品的数据集，一共有10类，属于是比较小的数据集。这次用一个4个卷积层加2个全连接层的典型CNN网络来进行分类"
      ]
    },
    {
      "metadata": {
        "id": "XA7NfnW1mAkC",
        "colab_type": "code",
        "colab": {}
      },
      "cell_type": "code",
      "source": [
        "import keras\n",
        "from keras.datasets import cifar10\n",
        "from keras.preprocessing.image import ImageDataGenerator\n",
        "from keras.models import Sequential\n",
        "from keras.layers import Dense, Dropout, Activation, Flatten\n",
        "from keras.layers import Conv2D, MaxPooling2D"
      ],
      "execution_count": 0,
      "outputs": []
    },
    {
      "metadata": {
        "id": "NO7ik-DxmAkG",
        "colab_type": "text"
      },
      "cell_type": "markdown",
      "source": [
        "↓首先载入cifar10数据集，和mnist数据集的载入方法一致，本地没有数据的话会先下载"
      ]
    },
    {
      "metadata": {
        "id": "hjfZx1EjmAkH",
        "colab_type": "code",
        "colab": {}
      },
      "cell_type": "code",
      "source": [
        "(x_train,y_train),(x_test,y_test) = cifar10.load_data()"
      ],
      "execution_count": 0,
      "outputs": []
    },
    {
      "metadata": {
        "id": "y39u6Q3WmAkL",
        "colab_type": "text"
      },
      "cell_type": "markdown",
      "source": [
        "cifar10数据集图像大小是32*32的3通道彩图，训练集5万张，测试集1万张。和之前的mnist数据集不同，由于是彩色的，所以样本直接就是4维的。"
      ]
    },
    {
      "metadata": {
        "id": "3x6VQLBlmAkM",
        "colab_type": "code",
        "colab": {}
      },
      "cell_type": "code",
      "source": [
        "print(x_train.shape,y_train.shape)\n",
        "print(x_test.shape,y_test.shape)"
      ],
      "execution_count": 0,
      "outputs": []
    },
    {
      "metadata": {
        "id": "kOFiuVRimAkR",
        "colab_type": "code",
        "colab": {}
      },
      "cell_type": "code",
      "source": [
        "import matplotlib.pyplot as plt\n",
        "plt.imshow(x_train[0])\n",
        "plt.show()\n",
        "plt.imshow(x_train[1])\n",
        "plt.show()"
      ],
      "execution_count": 0,
      "outputs": []
    },
    {
      "metadata": {
        "id": "m8EZtzWjmAkV",
        "colab_type": "text"
      },
      "cell_type": "markdown",
      "source": [
        "可以看到数据读入没有问题，第一张是蛤蟆，第二张是一个卡车。\n",
        "\n",
        "↓规范化数据"
      ]
    },
    {
      "metadata": {
        "id": "y40U9Um4mAkV",
        "colab_type": "code",
        "colab": {}
      },
      "cell_type": "code",
      "source": [
        "x_train = x_train/255\n",
        "x_test = x_test/255\n",
        "y_train = keras.utils.to_categorical(y_train,10)\n",
        "y_test = keras.utils.to_categorical(y_test,10)"
      ],
      "execution_count": 0,
      "outputs": []
    },
    {
      "metadata": {
        "id": "nv7dJYvHmAka",
        "colab_type": "text"
      },
      "cell_type": "markdown",
      "source": [
        "↓构建模型。之前构建模型都是先生成一个model，然后使用add方法来一层一层的加，现在用另一种更方便的方法。直接在Sequential初始化的时候按数组一个一个写进去就可以了。"
      ]
    },
    {
      "metadata": {
        "id": "vxg5P6t4mAka",
        "colab_type": "code",
        "colab": {}
      },
      "cell_type": "code",
      "source": [
        "model = Sequential([\n",
        "    Conv2D(32,(3,3),padding='same',input_shape=(32,32,3),activation='relu'),\n",
        "    Conv2D(32,(3,3),activation='relu'),\n",
        "    MaxPooling2D(pool_size=(2,2)),\n",
        "    Dropout(0.25),\n",
        "    \n",
        "    Conv2D(64,(3,3),padding='same',activation='relu'),\n",
        "    Conv2D(64,(3,3),activation='relu'),\n",
        "    MaxPooling2D(pool_size=(2,2)),\n",
        "    Dropout(0.25),\n",
        "    \n",
        "    Flatten(),\n",
        "    Dense(512,activation='relu'),\n",
        "    Dropout(0.5),\n",
        "    Dense(10,activation='softmax')    \n",
        "])"
      ],
      "execution_count": 0,
      "outputs": []
    },
    {
      "metadata": {
        "id": "EiSetjoQmAkd",
        "colab_type": "code",
        "colab": {}
      },
      "cell_type": "code",
      "source": [
        "model.summary()"
      ],
      "execution_count": 0,
      "outputs": []
    },
    {
      "metadata": {
        "id": "x_79fTBpmAkg",
        "colab_type": "text"
      },
      "cell_type": "markdown",
      "source": [
        "↓指定优化函数的参数"
      ]
    },
    {
      "metadata": {
        "id": "Zez31bhzmAkg",
        "colab_type": "code",
        "colab": {}
      },
      "cell_type": "code",
      "source": [
        "opt = keras.optimizers.rmsprop(lr=0.0001,decay=1e-6)"
      ],
      "execution_count": 0,
      "outputs": []
    },
    {
      "metadata": {
        "id": "s3zAAIYImAkj",
        "colab_type": "code",
        "colab": {}
      },
      "cell_type": "code",
      "source": [
        "model.compile(loss='categorical_crossentropy',\n",
        "             optimizer=opt,\n",
        "             metrics=['accuracy'])"
      ],
      "execution_count": 0,
      "outputs": []
    },
    {
      "metadata": {
        "id": "zlG6x0e9mAkl",
        "colab_type": "text"
      },
      "cell_type": "markdown",
      "source": [
        "### 至此直接调用fit方法就可以进行训练了。但是为了模型更快的收敛以及更好的泛化性能，往往我们会对图像做一些变换，比如缩放、平移、旋转等等。下面我们要用keras自带的图像增强来对图像做一些变换"
      ]
    },
    {
      "metadata": {
        "id": "wF4lMf2CmAkn",
        "colab_type": "text"
      },
      "cell_type": "markdown",
      "source": [
        "↓这里生成了一个数据增强器，包含了范围20°内的随机旋转，±15%的缩放以及随机的水平翻转。可调的参数还有很多，具体的可以查看文档。"
      ]
    },
    {
      "metadata": {
        "id": "UZ1okzbzmAko",
        "colab_type": "code",
        "colab": {}
      },
      "cell_type": "code",
      "source": [
        "datagen = ImageDataGenerator(\n",
        "    rotation_range = 20,\n",
        "    zoom_range = 0.15,\n",
        "    horizontal_flip = True,\n",
        ")"
      ],
      "execution_count": 0,
      "outputs": []
    },
    {
      "metadata": {
        "id": "Mt2xKG4tmAkq",
        "colab_type": "code",
        "colab": {}
      },
      "cell_type": "code",
      "source": [
        "# datagen.fit(x_train) 只有使用featurewise_center，featurewise_std_normalization或zca_whitening时需要此函数"
      ],
      "execution_count": 0,
      "outputs": []
    },
    {
      "metadata": {
        "id": "5Yvuap6tmAku",
        "colab_type": "text"
      },
      "cell_type": "markdown",
      "source": [
        "↓通过ImageDataGenerator生成的数据需要使用model的fit_generator方法来进行训练，其中的workers参数表示多线程运算。\n",
        "\n",
        "datagen的flow方法可以按批次的生成训练所需数据，注意这里生成的数据都是经过了数据增强的，并且是实时的。"
      ]
    },
    {
      "metadata": {
        "scrolled": true,
        "id": "vSm_SKIlmAku",
        "colab_type": "code",
        "colab": {}
      },
      "cell_type": "code",
      "source": [
        "model.fit_generator(datagen.flow(x_train,y_train,batch_size=64),steps_per_epoch = 1000,epochs = 2,\n",
        "                    validation_data=(x_test,y_test),workers=4,verbose=1)"
      ],
      "execution_count": 0,
      "outputs": []
    },
    {
      "metadata": {
        "id": "PncVS-gsmAkx",
        "colab_type": "text"
      },
      "cell_type": "markdown",
      "source": [
        "↓保存模型，包括了模型的结构以及参数。后缀用h5"
      ]
    },
    {
      "metadata": {
        "id": "OMppufo8mAky",
        "colab_type": "code",
        "colab": {}
      },
      "cell_type": "code",
      "source": [
        "model.save('cifar10_trained_model.h5')"
      ],
      "execution_count": 0,
      "outputs": []
    },
    {
      "metadata": {
        "id": "iEM1Vf9zmAk3",
        "colab_type": "code",
        "colab": {}
      },
      "cell_type": "code",
      "source": [
        "scores = model.evaluate(x_test,y_test,verbose=1)\n",
        "print('Test loss:',scores[0])\n",
        "print('Test accuracy:',scores[1])"
      ],
      "execution_count": 0,
      "outputs": []
    },
    {
      "metadata": {
        "id": "r2r5wimomAk9",
        "colab_type": "text"
      },
      "cell_type": "markdown",
      "source": [
        "### 总结\n",
        "\n",
        "1. 学习了一种新的使用Sequential()构建模型的方法，更加的简单快捷\n",
        "1. 学习了使用Keras内置的ImageDataGenerator来做数据增强的方法\n",
        "1. 调用model的fit_generator来进行针对增强数据的训练\n",
        "1. 学习了如何保存模型\n",
        "\n",
        "\n",
        "\n",
        "参考\n",
        "> https://github.com/keras-team/keras/blob/master/examples\n",
        "> https://keras-cn.readthedocs.io/en/latest/preprocessing/image/"
      ]
    }
  ]
}